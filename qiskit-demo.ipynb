{
 "cells": [
  {
   "cell_type": "markdown",
   "metadata": {},
   "source": [
    "# Qiskit from Scratch\n",
    "## Austin Python Meetup\n",
    "### Tuesday, April 16, 2019"
   ]
  },
  {
   "cell_type": "markdown",
   "metadata": {},
   "source": [
    "## Installation & Set Up\n",
    "Only needs doing once"
   ]
  },
  {
   "cell_type": "markdown",
   "metadata": {},
   "source": [
    "### install packages"
   ]
  },
  {
   "cell_type": "code",
   "execution_count": 1,
   "metadata": {},
   "outputs": [],
   "source": [
    "#%pip install qiskit-aqua qiskit"
   ]
  },
  {
   "cell_type": "markdown",
   "metadata": {},
   "source": [
    "## Build first circuit"
   ]
  },
  {
   "cell_type": "markdown",
   "metadata": {},
   "source": [
    "We will build a circuit to prepare the Bell state\n",
    ", the \"Hello World\" of quantum computing.\n",
    "It is the simplest demonstration combining the 2 core quantum phenamena: superposition & entanglement\n",
    "\n",
    "quantum programs == quantum circuits (unless doing quantum annealing ie D-Wave)"
   ]
  },
  {
   "cell_type": "code",
   "execution_count": 2,
   "metadata": {},
   "outputs": [
    {
     "name": "stdout",
     "output_type": "stream",
     "text": [
      "Populating the interactive namespace from numpy and matplotlib\n"
     ]
    }
   ],
   "source": [
    "from qiskit.visualization import iplot_histogram, plot_histogram\n",
    "%pylab inline\n",
    "import qiskit as qk"
   ]
  },
  {
   "cell_type": "markdown",
   "metadata": {},
   "source": [
    "### Allocate a circuit with 2 qubits and 2 classical bits."
   ]
  },
  {
   "cell_type": "code",
   "execution_count": 3,
   "metadata": {},
   "outputs": [],
   "source": [
    "qr = qk.QuantumRegister(2)\n",
    "cr = qk.ClassicalRegister(2)\n",
    "qc = qk.QuantumCircuit(qr,cr)"
   ]
  },
  {
   "cell_type": "markdown",
   "metadata": {},
   "source": [
    "### Add Hadamard gate to put first qubit in superposition"
   ]
  },
  {
   "cell_type": "code",
   "execution_count": 4,
   "metadata": {},
   "outputs": [
    {
     "data": {
      "text/plain": [
       "<qiskit.circuit.instructionset.InstructionSet at 0x7f8969af0ed0>"
      ]
     },
     "execution_count": 4,
     "metadata": {},
     "output_type": "execute_result"
    }
   ],
   "source": [
    "qc.h(qr[0])"
   ]
  },
  {
   "cell_type": "code",
   "execution_count": 5,
   "metadata": {},
   "outputs": [
    {
     "data": {
      "image/png": "[encoded data removed]",
      "text/plain": [
       "<Figure size 227.556x204.68 with 1 Axes>"
      ]
     },
     "execution_count": 5,
     "metadata": {},
     "output_type": "execute_result"
    }
   ],
   "source": [
    "qc.draw(output='mpl')"
   ]
  },
  {
   "cell_type": "markdown",
   "metadata": {},
   "source": [
    "### Add Contolled-Not gate to entangle qubits"
   ]
  },
  {
   "cell_type": "code",
   "execution_count": 6,
   "metadata": {},
   "outputs": [
    {
     "data": {
      "text/plain": [
       "<qiskit.circuit.instructionset.InstructionSet at 0x7f8969b00a50>"
      ]
     },
     "execution_count": 6,
     "metadata": {},
     "output_type": "execute_result"
    }
   ],
   "source": [
    "qc.cx(qr[0], qr[1])"
   ]
  },
  {
   "cell_type": "code",
   "execution_count": 7,
   "metadata": {},
   "outputs": [
    {
     "data": {
      "image/png": "[encoded data removed]",
      "text/plain": [
       "<Figure size 287.756x204.68 with 1 Axes>"
      ]
     },
     "execution_count": 7,
     "metadata": {},
     "output_type": "execute_result"
    }
   ],
   "source": [
    "qc.draw(output='mpl')"
   ]
  },
  {
   "cell_type": "markdown",
   "metadata": {},
   "source": [
    "### Add measurerement of both qubits"
   ]
  },
  {
   "cell_type": "code",
   "execution_count": 8,
   "metadata": {},
   "outputs": [
    {
     "data": {
      "text/plain": [
       "<qiskit.circuit.instructionset.InstructionSet at 0x7f896993a150>"
      ]
     },
     "execution_count": 8,
     "metadata": {},
     "output_type": "execute_result"
    }
   ],
   "source": [
    "qc.measure(qr,cr)"
   ]
  },
  {
   "cell_type": "code",
   "execution_count": 9,
   "metadata": {},
   "outputs": [
    {
     "data": {
      "image/png": "[encoded data removed]",
      "text/plain": [
       "<Figure size 408.156x204.68 with 1 Axes>"
      ]
     },
     "execution_count": 9,
     "metadata": {},
     "output_type": "execute_result"
    }
   ],
   "source": [
    "qc.draw(output='mpl')"
   ]
  },
  {
   "cell_type": "markdown",
   "metadata": {},
   "source": [
    "## Simulate circuit classically"
   ]
  },
  {
   "cell_type": "code",
   "execution_count": 10,
   "metadata": {},
   "outputs": [
    {
     "data": {
      "text/plain": [
       "[<QasmSimulator('qasm_simulator') from AerProvider()>,\n",
       " <StatevectorSimulator('statevector_simulator') from AerProvider()>,\n",
       " <UnitarySimulator('unitary_simulator') from AerProvider()>]"
      ]
     },
     "execution_count": 10,
     "metadata": {},
     "output_type": "execute_result"
    }
   ],
   "source": [
    "qk.Aer.backends()"
   ]
  },
  {
   "cell_type": "code",
   "execution_count": 11,
   "metadata": {},
   "outputs": [],
   "source": [
    "sim = qk.Aer.get_backend('qasm_simulator')"
   ]
  },
  {
   "cell_type": "code",
   "execution_count": 12,
   "metadata": {},
   "outputs": [],
   "source": [
    "res = qk.execute(qc, sim).result()"
   ]
  },
  {
   "cell_type": "code",
   "execution_count": 13,
   "metadata": {},
   "outputs": [
    {
     "data": {
      "text/plain": [
       "Result(backend_name='qasm_simulator', backend_version='0.3.4', date=datetime.datetime(2020, 1, 24, 19, 4, 2, 580864), header=Obj(backend_name='qasm_simulator', backend_version='0.3.4'), job_id='be3215e4-74de-481e-b5f4-0d6ff00d81c0', metadata={'max_memory_mb': 7848, 'omp_enabled': True, 'parallel_experiments': 1, 'time_taken': 0.0016677240000000002}, qobj_id='97674d28-10ad-4864-8d2b-2134c719f507', results=[ExperimentResult(data=ExperimentResultData(counts=Obj(0x0=523, 0x3=501)), header=Obj(clbit_labels=[['c0', 0], ['c0', 1]], creg_sizes=[['c0', 2]], memory_slots=2, n_qubits=2, name='circuit0', qreg_sizes=[['q0', 2]], qubit_labels=[['q0', 0], ['q0', 1]]), meas_level=<MeasLevel.CLASSIFIED: 2>, metadata={'measure_sampling': True, 'method': 'stabilizer', 'parallel_shots': 1, 'parallel_state_update': 8}, seed_simulator=2507214890, shots=1024, status='DONE', success=True, time_taken=0.00158157)], status='COMPLETED', success=True, time_taken=0.00635218620300293)"
      ]
     },
     "execution_count": 13,
     "metadata": {},
     "output_type": "execute_result"
    }
   ],
   "source": [
    "res"
   ]
  },
  {
   "cell_type": "code",
   "execution_count": 14,
   "metadata": {},
   "outputs": [
    {
     "data": {
      "image/png": "[encoded data removed]",
      "text/plain": [
       "<Figure size 504x360 with 1 Axes>"
      ]
     },
     "execution_count": 14,
     "metadata": {},
     "output_type": "execute_result"
    }
   ],
   "source": [
    "plot_histogram(res.get_counts())"
   ]
  },
  {
   "cell_type": "markdown",
   "metadata": {},
   "source": [
    "## Run circuit on real quantum computer"
   ]
  },
  {
   "cell_type": "markdown",
   "metadata": {},
   "source": [
    "### obtain API token"
   ]
  },
  {
   "cell_type": "markdown",
   "metadata": {},
   "source": [
    "https://quantumexperience.ng.bluemix.net/qx/account/advanced"
   ]
  },
  {
   "cell_type": "markdown",
   "metadata": {},
   "source": [
    "### save API token "
   ]
  },
  {
   "cell_type": "code",
   "execution_count": 15,
   "metadata": {},
   "outputs": [
    {
     "data": {
      "text/plain": [
       "<AccountProvider for IBMQ(hub='ibm-q', group='open', project='main')>"
      ]
     },
     "execution_count": 15,
     "metadata": {},
     "output_type": "execute_result"
    }
   ],
   "source": [
    "from qiskit import IBMQ\n",
    "IBMQ.delete_account()\n",
    "IBMQ.save_account('4fd56...',\n",
    "                  overwrite=True) # the token you obtained above\n",
    "IBMQ.load_account()"
   ]
  },
  {
   "cell_type": "markdown",
   "metadata": {},
   "source": [
    "### Available processors"
   ]
  },
  {
   "cell_type": "code",
   "execution_count": 16,
   "metadata": {},
   "outputs": [
    {
     "data": {
      "text/plain": [
       "[<IBMQBackend('ibmqx2') from IBMQ(hub='ibm-q', group='open', project='main')>,\n",
       " <IBMQBackend('ibmq_16_melbourne') from IBMQ(hub='ibm-q', group='open', project='main')>,\n",
       " <IBMQBackend('ibmq_vigo') from IBMQ(hub='ibm-q', group='open', project='main')>,\n",
       " <IBMQBackend('ibmq_ourense') from IBMQ(hub='ibm-q', group='open', project='main')>,\n",
       " <IBMQBackend('ibmq_london') from IBMQ(hub='ibm-q', group='open', project='main')>,\n",
       " <IBMQBackend('ibmq_burlington') from IBMQ(hub='ibm-q', group='open', project='main')>,\n",
       " <IBMQBackend('ibmq_essex') from IBMQ(hub='ibm-q', group='open', project='main')>,\n",
       " <IBMQBackend('ibmq_armonk') from IBMQ(hub='ibm-q', group='open', project='main')>]"
      ]
     },
     "execution_count": 16,
     "metadata": {},
     "output_type": "execute_result"
    }
   ],
   "source": [
    "provider = IBMQ.get_provider()\n",
    "procs=provider.backends(operational=True, simulator=False)\n",
    "procs"
   ]
  },
  {
   "cell_type": "code",
   "execution_count": 17,
   "metadata": {},
   "outputs": [
    {
     "name": "stderr",
     "output_type": "stream",
     "text": [
      "/home/dm/anaconda3/lib/python3.7/site-packages/qiskit/providers/models/backendconfiguration.py:367: UserWarning: `dt` and `dtm` now have units of seconds(s) rather than nanoseconds(ns).\n",
      "  warnings.warn('`dt` and `dtm` now have units of seconds(s) rather '\n"
     ]
    },
    {
     "data": {
      "application/vnd.jupyter.widget-view+json": {
       "model_id": "fecf08631612456d8c50a0d82e1e23db",
       "version_major": 2,
       "version_minor": 0
      },
      "text/plain": [
       "VBox(children=(HTML(value=\"<h2 style ='color:#ffffff; background-color:#000000;padding-top: 1%; padding-bottom…"
      ]
     },
     "metadata": {},
     "output_type": "display_data"
    }
   ],
   "source": [
    "from qiskit.tools.jupyter import *\n",
    "%qiskit_backend_overview"
   ]
  },
  {
   "cell_type": "markdown",
   "metadata": {},
   "source": [
    "### Choose a processor"
   ]
  },
  {
   "cell_type": "code",
   "execution_count": 18,
   "metadata": {},
   "outputs": [],
   "source": [
    "from qiskit.tools import monitor\n",
    "backend = qk.providers.ibmq.least_busy([p for p in procs if len(p.properties().qubits) >= 2])\n",
    "#%qiskit_backend_monitor backend"
   ]
  },
  {
   "cell_type": "code",
   "execution_count": 19,
   "metadata": {},
   "outputs": [
    {
     "name": "stdout",
     "output_type": "stream",
     "text": [
      "ibmqx2\n",
      "======\n",
      "Configuration\n",
      "-------------\n",
      "    n_qubits: 5\n",
      "    operational: True\n",
      "    status_msg: active\n",
      "    pending_jobs: 0\n",
      "    backend_version: 2.0.2\n",
      "    basis_gates: ['u1', 'u2', 'u3', 'cx', 'id']\n",
      "    local: False\n",
      "    simulator: False\n",
      "    url: None\n",
      "    max_experiments: 75\n",
      "    n_registers: 1\n",
      "    credits_required: True\n",
      "    open_pulse: False\n",
      "    allow_object_storage: True\n",
      "    allow_q_object: True\n",
      "    allow_q_circuit: False\n",
      "    description: 5 qubit device\n",
      "    sample_name: sparrow\n",
      "    online_date: 2017-01-24T05:00:00+00:00\n",
      "    max_shots: 8192\n",
      "    memory: True\n",
      "    quantum_volume: 8\n",
      "    conditional: False\n",
      "    backend_name: ibmqx2\n",
      "    coupling_map: [[0, 1], [0, 2], [1, 0], [1, 2], [2, 0], [2, 1], [2, 3], [2, 4], [3, 2], [3, 4], [4, 2], [4, 3]]\n",
      "\n",
      "Qubits [Name / Freq / T1 / T2 / U1 err / U2 err / U3 err / Readout err]\n",
      "-----------------------------------------------------------------------\n",
      "    Q0 / 5.28628 GHz / 54.07468 µs / 70.34927 µs / 0.0 / 0.00066 / 0.00132 / 0.0145\n",
      "    Q1 / 5.23791 GHz / 63.10015 µs / 60.0878 µs / 0.0 / 0.00097 / 0.00195 / 0.012\n",
      "    Q2 / 5.03029 GHz / 56.06085 µs / 67.68035 µs / 0.0 / 0.00057 / 0.00114 / 0.015\n",
      "    Q3 / 5.29537 GHz / 56.1569 µs / 38.5523 µs / 0.0 / 0.001 / 0.00199 / 0.0545\n",
      "    Q4 / 5.08452 GHz / 34.272 µs / 37.44957 µs / 0.0 / 0.00088 / 0.00176 / 0.0255\n",
      "\n",
      "Multi-Qubit Gates [Name / Type / Gate Error]\n",
      "--------------------------------------------\n",
      "    cx0_1 / cx / 0.01956\n",
      "    cx0_2 / cx / 0.0136\n",
      "    cx1_0 / cx / 0.01956\n",
      "    cx1_2 / cx / 0.03376\n",
      "    cx2_0 / cx / 0.0136\n",
      "    cx2_1 / cx / 0.03376\n",
      "    cx2_3 / cx / 0.01757\n",
      "    cx2_4 / cx / 0.01354\n",
      "    cx3_2 / cx / 0.01757\n",
      "    cx3_4 / cx / 0.0276\n",
      "    cx4_2 / cx / 0.01354\n",
      "    cx4_3 / cx / 0.0276\n"
     ]
    }
   ],
   "source": [
    "from qiskit.tools.monitor import backend_overview, backend_monitor\n",
    "backend_monitor(backend)"
   ]
  },
  {
   "cell_type": "markdown",
   "metadata": {},
   "source": [
    "### Submit job"
   ]
  },
  {
   "cell_type": "code",
   "execution_count": 20,
   "metadata": {},
   "outputs": [
    {
     "name": "stdout",
     "output_type": "stream",
     "text": [
      "CPU times: user 119 ms, sys: 10.7 ms, total: 129 ms\n",
      "Wall time: 1.37 s\n"
     ]
    }
   ],
   "source": [
    "#%%qiskit_job_status\n",
    "#%%qiskit_progress_bar\n",
    "%time job = qk.execute(qc, backend=backend, shots=2**10)\n",
    "#mon = monitor.job_monitor(job)\n"
   ]
  },
  {
   "cell_type": "markdown",
   "metadata": {},
   "source": [
    "### Get results"
   ]
  },
  {
   "cell_type": "code",
   "execution_count": 21,
   "metadata": {},
   "outputs": [
    {
     "name": "stdout",
     "output_type": "stream",
     "text": [
      "CPU times: user 159 ms, sys: 9.67 ms, total: 169 ms\n",
      "Wall time: 13.6 s\n"
     ]
    }
   ],
   "source": [
    "%time res2 = job.result()"
   ]
  },
  {
   "cell_type": "code",
   "execution_count": 22,
   "metadata": {},
   "outputs": [
    {
     "data": {
      "image/png": "[encoded data removed]",
      "text/plain": [
       "<Figure size 504x360 with 1 Axes>"
      ]
     },
     "execution_count": 22,
     "metadata": {},
     "output_type": "execute_result"
    }
   ],
   "source": [
    "plot_histogram(res2.get_counts(qc))"
   ]
  },
  {
   "cell_type": "code",
   "execution_count": 23,
   "metadata": {},
   "outputs": [
    {
     "data": {
      "text/plain": [
       "{'10': 12, '00': 465, '01': 20, '11': 527}"
      ]
     },
     "execution_count": 23,
     "metadata": {},
     "output_type": "execute_result"
    }
   ],
   "source": [
    "res2.get_counts(qc)"
   ]
  },
  {
   "cell_type": "markdown",
   "metadata": {},
   "source": [
    "## What next?\n",
    "\n",
    "### Repos\n",
    "- https://github.com/Qiskit\n",
    "  - https://github.com/Qiskit/qiskit-tutorials\n",
    "  - https://github.com/Qiskit/qiskit-presentations\n",
    "- https://github.com/jaygambetta\n",
    "- https://github.com/JavaFXpert\n",
    "- https://github.com/decodoku\n",
    "- https://github.com/xanaduai\n",
    "- https://github.com/artix41/awesome-quantum-ml\n",
    "- https://github.com/desireevl/awesome-quantum-computing\n",
    "\n",
    "### Blogs\n",
    "- https://medium.com/@qiskit\n",
    "- https://medium.com/rigetti\n",
    "  - https://medium.com/rigetti/jamming-with-a-quantum-computer-bed05550a0e8\n",
    "- https://medium.com/xanaduai\n",
    "- https://medium.com/@decodoku\n",
    "- https://ai.google/research/teams/applied-science/quantum-ai\n",
    "\n",
    "### Videos\n",
    "#### The very basics\n",
    "- https://www.youtube.com/watch?v=ZoT82NDpcvQ\n",
    "- https://youtu.be/F8U1d2Hqark?t=352 (only the second half)\n",
    "\n",
    "#### More in depth\n",
    "- http://quiprocone.org/Protected/DD_lectures.htm\n",
    "- https://www.youtube.com/watch?v=F_Riqjdh2oM\n",
    "- https://www.youtube.com/watch?v=LSA3pYZtRGg\n",
    "- https://www.youtube.com/watch?v=UgqLi1itWmk\n",
    "\n",
    "#### EdX/MIT Quantum Machine learning course\n",
    "- https://www.edx.org/course/quantum-machine-learning\n",
    "- https://gitlab.com/qosf/qml-mooc.git\n",
    "\n",
    "#### More resources\n",
    "- https://github.com/desireevl/awesome-quantum-computing\n",
    "- https://github.com/qosf/awesome-quantum-software\n",
    "- https://github.com/krishnakumarsekar/awesome-quantum-machine-learning\n",
    "- https://github.com/artix41/awesome-quantum-ml\n",
    "- https://github.com/hsavit1/Awesome-Quantum-Computation"
   ]
  },
  {
   "cell_type": "code",
   "execution_count": null,
   "metadata": {},
   "outputs": [],
   "source": []
  }
 ],
 "metadata": {
  "kernelspec": {
   "display_name": "Python 3",
   "language": "python",
   "name": "python3"
  },
  "language_info": {
   "codemirror_mode": {
    "name": "ipython",
    "version": 3
   },
   "file_extension": ".py",
   "mimetype": "text/x-python",
   "name": "python",
   "nbconvert_exporter": "python",
   "pygments_lexer": "ipython3",
   "version": "3.7.6"
  }
 },
 "nbformat": 4,
 "nbformat_minor": 4
}
