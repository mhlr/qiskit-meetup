{
 "cells": [
  {
   "cell_type": "markdown",
   "metadata": {},
   "source": [
    "# Qiskit from Scratch\n",
    "## Austin Python Meetup\n",
    "### Tuesday, April 16, 2019"
   ]
  },
  {
   "cell_type": "markdown",
   "metadata": {},
   "source": [
    "## Installation & Set Up\n",
    "Only needs doing once"
   ]
  },
  {
   "cell_type": "markdown",
   "metadata": {},
   "source": [
    "### install packages"
   ]
  },
  {
   "cell_type": "code",
   "execution_count": 1,
   "metadata": {},
   "outputs": [],
   "source": [
    "#%pip install qiskit-aqua qiskit"
   ]
  },
  {
   "cell_type": "markdown",
   "metadata": {},
   "source": [
    "### obtain API token"
   ]
  },
  {
   "cell_type": "markdown",
   "metadata": {},
   "source": [
    "https://quantumexperience.ng.bluemix.net/qx/account/advanced"
   ]
  },
  {
   "cell_type": "markdown",
   "metadata": {},
   "source": [
    "### save API token "
   ]
  },
  {
   "cell_type": "code",
   "execution_count": 2,
   "metadata": {},
   "outputs": [],
   "source": [
    "# from qiskit import IBMQ\n",
    "# IBMQ.save_account('78a3b...') # the token you obtaine above"
   ]
  },
  {
   "cell_type": "markdown",
   "metadata": {},
   "source": [
    "## First circuit"
   ]
  },
  {
   "cell_type": "markdown",
   "metadata": {},
   "source": [
    "We will build a circuit to prepare the Bell state\n",
    ", the \"Hello World\" of quantum computing.\n",
    "It is the simplest demonstration combining the 2 core quantum phenamena: superposition & entanglement\n",
    "quantum programs == quantum circuits (unless doing quantum annealing ie D-Wave)"
   ]
  },
  {
   "cell_type": "code",
   "execution_count": 3,
   "metadata": {},
   "outputs": [],
   "source": [
    "%matplotlib inline\n",
    "import qiskit as qk"
   ]
  },
  {
   "cell_type": "markdown",
   "metadata": {},
   "source": [
    "### Allocate a circuit with 2 qubits and 2 classical bits."
   ]
  },
  {
   "cell_type": "code",
   "execution_count": 4,
   "metadata": {},
   "outputs": [],
   "source": [
    "qr = qk.QuantumRegister(2)\n",
    "cr = qk.ClassicalRegister(2)\n",
    "qc = qk.QuantumCircuit(qr,cr)"
   ]
  },
  {
   "cell_type": "markdown",
   "metadata": {},
   "source": [
    "### Add Hadamard gate to put first qubit in superposition"
   ]
  },
  {
   "cell_type": "code",
   "execution_count": 5,
   "metadata": {},
   "outputs": [
    {
     "data": {
      "text/plain": [
       "<qiskit.extensions.standard.h.HGate at 0x7eff724dfb00>"
      ]
     },
     "execution_count": 5,
     "metadata": {},
     "output_type": "execute_result"
    }
   ],
   "source": [
    "qc.h(qr[0])"
   ]
  },
  {
   "cell_type": "code",
   "execution_count": 6,
   "metadata": {},
   "outputs": [
    {
     "data": {
      "image/png": "[encoded data removed]",
      "text/plain": [
       "<Figure size 240.8x258.86 with 1 Axes>"
      ]
     },
     "execution_count": 6,
     "metadata": {},
     "output_type": "execute_result"
    }
   ],
   "source": [
    "qc.draw(output='mpl')"
   ]
  },
  {
   "cell_type": "markdown",
   "metadata": {},
   "source": [
    "### Add Contolled-Not gate to entangle qubits"
   ]
  },
  {
   "cell_type": "code",
   "execution_count": 7,
   "metadata": {},
   "outputs": [
    {
     "data": {
      "text/plain": [
       "<qiskit.extensions.standard.cx.CnotGate at 0x7eff71f63cf8>"
      ]
     },
     "execution_count": 7,
     "metadata": {},
     "output_type": "execute_result"
    }
   ],
   "source": [
    "qc.cx(qr[0], qr[1])"
   ]
  },
  {
   "cell_type": "code",
   "execution_count": 8,
   "metadata": {},
   "outputs": [
    {
     "data": {
      "image/png": "[encoded data removed]",
      "text/plain": [
       "<Figure size 301x258.86 with 1 Axes>"
      ]
     },
     "execution_count": 8,
     "metadata": {},
     "output_type": "execute_result"
    }
   ],
   "source": [
    "qc.draw(output='mpl')"
   ]
  },
  {
   "cell_type": "markdown",
   "metadata": {},
   "source": [
    "### Add measurerement of both qubits"
   ]
  },
  {
   "cell_type": "code",
   "execution_count": 9,
   "metadata": {},
   "outputs": [
    {
     "data": {
      "text/plain": [
       "<qiskit.circuit.instructionset.InstructionSet at 0x7eff71e96c50>"
      ]
     },
     "execution_count": 9,
     "metadata": {},
     "output_type": "execute_result"
    }
   ],
   "source": [
    "qc.measure(qr,cr)"
   ]
  },
  {
   "cell_type": "code",
   "execution_count": 10,
   "metadata": {},
   "outputs": [
    {
     "data": {
      "image/png": "[encoded data removed]",
      "text/plain": [
       "<Figure size 421.4x258.86 with 1 Axes>"
      ]
     },
     "execution_count": 10,
     "metadata": {},
     "output_type": "execute_result"
    }
   ],
   "source": [
    "qc.draw(output='mpl')"
   ]
  },
  {
   "cell_type": "markdown",
   "metadata": {},
   "source": [
    "### Simulate circuit classically"
   ]
  },
  {
   "cell_type": "code",
   "execution_count": 11,
   "metadata": {},
   "outputs": [
    {
     "data": {
      "text/plain": [
       "[<QasmSimulator('qasm_simulator') from AerProvider()>,\n",
       " <StatevectorSimulator('statevector_simulator') from AerProvider()>,\n",
       " <UnitarySimulator('unitary_simulator') from AerProvider()>]"
      ]
     },
     "execution_count": 11,
     "metadata": {},
     "output_type": "execute_result"
    }
   ],
   "source": [
    "qk.Aer.backends()"
   ]
  },
  {
   "cell_type": "code",
   "execution_count": 12,
   "metadata": {},
   "outputs": [],
   "source": [
    "sim = qk.Aer.get_backend('qasm_simulator')"
   ]
  },
  {
   "cell_type": "code",
   "execution_count": 13,
   "metadata": {},
   "outputs": [],
   "source": [
    "res = qk.execute(qc, sim).result()"
   ]
  },
  {
   "cell_type": "code",
   "execution_count": 14,
   "metadata": {},
   "outputs": [
    {
     "data": {
      "text/html": [
       "\n",
       "    <p>\n",
       "        <div id=\"histogram_1555366892999892\"></div>\n",
       "    </p>\n",
       "    \n",
       "    <script>\n",
       "        requirejs.config({\n",
       "            paths: {\n",
       "                qVisualization: \"https://qvisualization.mybluemix.net/q-visualizations\"\n",
       "            }\n",
       "        });\n",
       "\n",
       "        require([\"qVisualization\"], function(qVisualizations) {\n",
       "            qVisualizations.plotState(\"histogram_1555366892999892\",\n",
       "                                      \"histogram\",\n",
       "                                      [{'data': {'11': 0.49512, '00': 0.50488}}],\n",
       "                                      {'number_to_keep': 0, 'sort': 'asc', 'show_legend': 0, 'width': 7, 'height': 5});\n",
       "        });\n",
       "    </script>\n",
       "    "
      ],
      "text/plain": [
       "<IPython.core.display.HTML object>"
      ]
     },
     "metadata": {},
     "output_type": "display_data"
    }
   ],
   "source": [
    "qk.tools.visualization.iplot_histogram(res.get_counts())"
   ]
  },
  {
   "cell_type": "markdown",
   "metadata": {},
   "source": [
    "### Run circuit on real quantum computer"
   ]
  },
  {
   "cell_type": "code",
   "execution_count": 15,
   "metadata": {},
   "outputs": [
    {
     "data": {
      "text/plain": [
       "[<IBMQBackend('ibmqx4') from IBMQ()>,\n",
       " <IBMQBackend('ibmqx2') from IBMQ()>,\n",
       " <IBMQBackend('ibmq_16_melbourne') from IBMQ()>,\n",
       " <IBMQBackend('ibmq_qasm_simulator') from IBMQ()>]"
      ]
     },
     "execution_count": 15,
     "metadata": {},
     "output_type": "execute_result"
    }
   ],
   "source": [
    "qk.IBMQ.load_accounts()\n",
    "procs = qk.IBMQ.backends()\n",
    "procs"
   ]
  },
  {
   "cell_type": "code",
   "execution_count": 16,
   "metadata": {},
   "outputs": [
    {
     "data": {
      "application/vnd.jupyter.widget-view+json": {
       "model_id": "5227ddfd0353413bb1c26853160163fb",
       "version_major": 2,
       "version_minor": 0
      },
      "text/plain": [
       "HTML(value=\"<p style='font-size:16px;'>Job Status: job is being initialized </p>\")"
      ]
     },
     "metadata": {},
     "output_type": "display_data"
    }
   ],
   "source": [
    "from qiskit.tools import monitor\n",
    "job = qk.execute(qc, backend=qk.providers.ibmq.least_busy(qk.IBMQ.backends()), shots=2**10)\n",
    "mon = monitor.job_monitor(job)\n",
    "res2 = job.result()"
   ]
  },
  {
   "cell_type": "code",
   "execution_count": 17,
   "metadata": {},
   "outputs": [
    {
     "data": {
      "text/html": [
       "\n",
       "    <p>\n",
       "        <div id=\"histogram_15553670219099324\"></div>\n",
       "    </p>\n",
       "    \n",
       "    <script>\n",
       "        requirejs.config({\n",
       "            paths: {\n",
       "                qVisualization: \"https://qvisualization.mybluemix.net/q-visualizations\"\n",
       "            }\n",
       "        });\n",
       "\n",
       "        require([\"qVisualization\"], function(qVisualizations) {\n",
       "            qVisualizations.plotState(\"histogram_15553670219099324\",\n",
       "                                      \"histogram\",\n",
       "                                      [{'data': {'01': 0.03125, '10': 0.04102, '11': 0.44824, '00': 0.47949}}],\n",
       "                                      {'number_to_keep': 0, 'sort': 'asc', 'show_legend': 0, 'width': 7, 'height': 5});\n",
       "        });\n",
       "    </script>\n",
       "    "
      ],
      "text/plain": [
       "<IPython.core.display.HTML object>"
      ]
     },
     "metadata": {},
     "output_type": "display_data"
    }
   ],
   "source": [
    "qk.tools.visualization.iplot_histogram(res2.get_counts(qc))"
   ]
  },
  {
   "cell_type": "markdown",
   "metadata": {},
   "source": [
    "## What next?\n",
    "\n",
    "### Repos\n",
    "- https://github.com/Qiskit\n",
    "  - https://github.com/Qiskit/qiskit-tutorials\n",
    "  - https://github.com/Qiskit/qiskit-presentations\n",
    "- https://github.com/jaygambetta\n",
    "- https://github.com/JavaFXpert\n",
    "- https://github.com/decodoku\n",
    "- https://github.com/xanaduai\n",
    "- https://github.com/artix41/awesome-quantum-ml\n",
    "- https://github.com/desireevl/awesome-quantum-computing\n",
    "\n",
    "### Blogs\n",
    "- https://medium.com/@qiskit\n",
    "- https://medium.com/rigetti\n",
    "  - https://medium.com/rigetti/jamming-with-a-quantum-computer-bed05550a0e8\n",
    "- https://medium.com/xanaduai\n",
    "- https://medium.com/@decodoku\n",
    "- https://ai.google/research/teams/applied-science/quantum-ai\n",
    "\n",
    "### Videos\n",
    "#### The very basics\n",
    "- https://www.youtube.com/watch?v=ZoT82NDpcvQ\n",
    "- https://youtu.be/F8U1d2Hqark?t=352 (only the second half)\n",
    "\n",
    "#### More in depth\n",
    "- http://quiprocone.org/Protected/DD_lectures.htm\n",
    "- https://www.youtube.com/watch?v=F_Riqjdh2oM\n",
    "- https://www.youtube.com/watch?v=LSA3pYZtRGg\n",
    "\n",
    "#### EdX/MIT Quantum Machine learning course\n",
    "- https://www.edx.org/course/quantum-machine-learning\n",
    "- https://gitlab.com/qosf/qml-mooc.git\n"
   ]
  }
 ],
 "metadata": {
  "kernelspec": {
   "display_name": "Python 3",
   "language": "python",
   "name": "python3"
  },
  "language_info": {
   "codemirror_mode": {
    "name": "ipython",
    "version": 3
   },
   "file_extension": ".py",
   "mimetype": "text/x-python",
   "name": "python",
   "nbconvert_exporter": "python",
   "pygments_lexer": "ipython3",
   "version": "3.7.3"
  }
 },
 "nbformat": 4,
 "nbformat_minor": 2
}
