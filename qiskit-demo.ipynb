{
 "cells": [
  {
   "cell_type": "markdown",
   "metadata": {},
   "source": [
    "# Qiskit from Scratch\n",
    "## Austin Python Meetup\n",
    "### Tuesday, April 16, 2019"
   ]
  },
  {
   "cell_type": "markdown",
   "metadata": {},
   "source": [
    "## Installation & Set Up\n",
    "Only needs doing once"
   ]
  },
  {
   "cell_type": "markdown",
   "metadata": {},
   "source": [
    "### install packages"
   ]
  },
  {
   "cell_type": "code",
   "execution_count": 21,
   "metadata": {},
   "outputs": [
    {
     "name": "stdout",
     "output_type": "stream",
     "text": [
      "Requirement already satisfied: qiskit-aqua in /home/dm/anaconda3/lib/python3.7/site-packages (0.4.1)\n",
      "Requirement already satisfied: qiskit in /home/dm/anaconda3/lib/python3.7/site-packages (0.8.0)\n",
      "Requirement already satisfied: psutil>=5 in /home/dm/anaconda3/lib/python3.7/site-packages (from qiskit-aqua) (5.6.1)\n",
      "Requirement already satisfied: setuptools>=40.5.0 in /home/dm/anaconda3/lib/python3.7/site-packages (from qiskit-aqua) (41.0.0)\n",
      "Collecting jsonschema<2.7,>=2.6 (from qiskit-aqua)\n",
      "  Using cached https://files.pythonhosted.org/packages/77/de/47e35a97b2b05c2fadbec67d44cfcdcd09b8086951b331d82de90d2912da/jsonschema-2.6.0-py2.py3-none-any.whl\n",
      "Requirement already satisfied: sympy>=1.3 in /home/dm/anaconda3/lib/python3.7/site-packages (from qiskit-aqua) (1.3)\n",
      "Requirement already satisfied: cvxopt in /home/dm/anaconda3/lib/python3.7/site-packages (from qiskit-aqua) (1.2.0)\n",
      "Requirement already satisfied: numpy>=1.13 in /home/dm/anaconda3/lib/python3.7/site-packages (from qiskit-aqua) (1.16.2)\n",
      "Requirement already satisfied: qiskit-terra<0.8,>=0.7.0 in /home/dm/anaconda3/lib/python3.7/site-packages (from qiskit-aqua) (0.7.1)\n",
      "Requirement already satisfied: scipy!=0.19.1,>=0.19 in /home/dm/anaconda3/lib/python3.7/site-packages (from qiskit-aqua) (1.2.1)\n",
      "Collecting scikit-learn==0.20.0 (from qiskit-aqua)\n",
      "  Using cached https://files.pythonhosted.org/packages/56/7d/0737aed3e157fb90a1eaecb1cbfa5742fa4206fb305c8f157b666b71da14/scikit_learn-0.20.0-cp37-cp37m-manylinux1_x86_64.whl\n",
      "Requirement already satisfied: qiskit-aer==0.1.1 in /home/dm/anaconda3/lib/python3.7/site-packages (from qiskit) (0.1.1)\n",
      "Requirement already satisfied: qiskit-ignis==0.1.0 in /home/dm/anaconda3/lib/python3.7/site-packages (from qiskit) (0.1.0)\n",
      "Requirement already satisfied: marshmallow-polyfield<4,>=3.2 in /home/dm/anaconda3/lib/python3.7/site-packages (from qiskit-terra<0.8,>=0.7.0->qiskit-aqua) (3.2)\n",
      "Requirement already satisfied: requests-ntlm>=1.1.0 in /home/dm/anaconda3/lib/python3.7/site-packages (from qiskit-terra<0.8,>=0.7.0->qiskit-aqua) (1.1.0)\n",
      "Requirement already satisfied: networkx>=2.2 in /home/dm/anaconda3/lib/python3.7/site-packages (from qiskit-terra<0.8,>=0.7.0->qiskit-aqua) (2.2)\n",
      "Requirement already satisfied: pillow>=4.2.1 in /home/dm/anaconda3/lib/python3.7/site-packages (from qiskit-terra<0.8,>=0.7.0->qiskit-aqua) (5.4.1)\n",
      "Requirement already satisfied: ply>=3.10 in /home/dm/anaconda3/lib/python3.7/site-packages (from qiskit-terra<0.8,>=0.7.0->qiskit-aqua) (3.11)\n",
      "Collecting marshmallow<3,>=2.16.3 (from qiskit-terra<0.8,>=0.7.0->qiskit-aqua)\n",
      "  Using cached https://files.pythonhosted.org/packages/bc/b4/f54f8533aad0645431bfda2cc3d20913a305779c80f8cb71229e8b615c5b/marshmallow-2.19.2-py2.py3-none-any.whl\n",
      "Requirement already satisfied: requests>=2.19 in /home/dm/anaconda3/lib/python3.7/site-packages (from qiskit-terra<0.8,>=0.7.0->qiskit-aqua) (2.21.0)\n",
      "Requirement already satisfied: cryptography>=1.3 in /home/dm/anaconda3/lib/python3.7/site-packages (from requests-ntlm>=1.1.0->qiskit-terra<0.8,>=0.7.0->qiskit-aqua) (2.6.1)\n",
      "Requirement already satisfied: ntlm-auth>=1.0.2 in /home/dm/anaconda3/lib/python3.7/site-packages (from requests-ntlm>=1.1.0->qiskit-terra<0.8,>=0.7.0->qiskit-aqua) (1.2.0)\n",
      "Requirement already satisfied: decorator>=4.3.0 in /home/dm/anaconda3/lib/python3.7/site-packages (from networkx>=2.2->qiskit-terra<0.8,>=0.7.0->qiskit-aqua) (4.4.0)\n",
      "Requirement already satisfied: chardet<3.1.0,>=3.0.2 in /home/dm/anaconda3/lib/python3.7/site-packages (from requests>=2.19->qiskit-terra<0.8,>=0.7.0->qiskit-aqua) (3.0.4)\n",
      "Requirement already satisfied: urllib3<1.25,>=1.21.1 in /home/dm/anaconda3/lib/python3.7/site-packages (from requests>=2.19->qiskit-terra<0.8,>=0.7.0->qiskit-aqua) (1.24.1)\n",
      "Requirement already satisfied: idna<2.9,>=2.5 in /home/dm/anaconda3/lib/python3.7/site-packages (from requests>=2.19->qiskit-terra<0.8,>=0.7.0->qiskit-aqua) (2.8)\n",
      "Requirement already satisfied: certifi>=2017.4.17 in /home/dm/anaconda3/lib/python3.7/site-packages (from requests>=2.19->qiskit-terra<0.8,>=0.7.0->qiskit-aqua) (2019.3.9)\n",
      "Requirement already satisfied: cffi!=1.11.3,>=1.8 in /home/dm/anaconda3/lib/python3.7/site-packages (from cryptography>=1.3->requests-ntlm>=1.1.0->qiskit-terra<0.8,>=0.7.0->qiskit-aqua) (1.12.2)\n",
      "Requirement already satisfied: six>=1.4.1 in /home/dm/anaconda3/lib/python3.7/site-packages (from cryptography>=1.3->requests-ntlm>=1.1.0->qiskit-terra<0.8,>=0.7.0->qiskit-aqua) (1.12.0)\n",
      "Requirement already satisfied: asn1crypto>=0.21.0 in /home/dm/anaconda3/lib/python3.7/site-packages (from cryptography>=1.3->requests-ntlm>=1.1.0->qiskit-terra<0.8,>=0.7.0->qiskit-aqua) (0.24.0)\n",
      "Requirement already satisfied: pycparser in /home/dm/anaconda3/lib/python3.7/site-packages (from cffi!=1.11.3,>=1.8->cryptography>=1.3->requests-ntlm>=1.1.0->qiskit-terra<0.8,>=0.7.0->qiskit-aqua) (2.19)\n",
      "Installing collected packages: jsonschema, scikit-learn, marshmallow\n",
      "  Found existing installation: jsonschema 3.0.1\n",
      "    Uninstalling jsonschema-3.0.1:\n",
      "      Successfully uninstalled jsonschema-3.0.1\n",
      "  Found existing installation: scikit-learn 0.20.3\n",
      "    Uninstalling scikit-learn-0.20.3:\n",
      "      Successfully uninstalled scikit-learn-0.20.3\n",
      "  Found existing installation: marshmallow 3.0.0b8\n",
      "    Uninstalling marshmallow-3.0.0b8:\n",
      "      Successfully uninstalled marshmallow-3.0.0b8\n",
      "Successfully installed jsonschema-2.6.0 marshmallow-2.19.2 scikit-learn-0.20.0\n",
      "Note: you may need to restart the kernel to use updated packages.\n"
     ]
    }
   ],
   "source": [
    "%pip install qiskit-aqua qiskit"
   ]
  },
  {
   "cell_type": "markdown",
   "metadata": {},
   "source": [
    "### obtain API token"
   ]
  },
  {
   "cell_type": "markdown",
   "metadata": {},
   "source": [
    "https://quantumexperience.ng.bluemix.net/qx/account/advanced"
   ]
  },
  {
   "cell_type": "markdown",
   "metadata": {},
   "source": [
    "### save API token "
   ]
  },
  {
   "cell_type": "code",
   "execution_count": null,
   "metadata": {},
   "outputs": [],
   "source": [
    "# from qiskit import IBMQ\n",
    "# IBMQ.save_account('78a3b...') # the token you obtaine above"
   ]
  },
  {
   "cell_type": "markdown",
   "metadata": {},
   "source": [
    "## First circuit"
   ]
  },
  {
   "cell_type": "markdown",
   "metadata": {},
   "source": [
    "quantum programs == quantum circuits (unless doing quantum annealing ie D-Wave)"
   ]
  },
  {
   "cell_type": "code",
   "execution_count": 30,
   "metadata": {},
   "outputs": [],
   "source": [
    "%matplotlib inline\n",
    "import qiskit as qk"
   ]
  },
  {
   "cell_type": "markdown",
   "metadata": {},
   "source": [
    "### Allocate a circuit with 2 qubits and 2 classical bits."
   ]
  },
  {
   "cell_type": "code",
   "execution_count": 64,
   "metadata": {},
   "outputs": [],
   "source": [
    "qr = qk.QuantumRegister(2)\n",
    "cr = qk.ClassicalRegister(2)\n",
    "qc = qk.QuantumCircuit(qr,cr)"
   ]
  },
  {
   "cell_type": "markdown",
   "metadata": {},
   "source": [
    "### Add Hadamard gate to put first qubit in superposition"
   ]
  },
  {
   "cell_type": "code",
   "execution_count": 65,
   "metadata": {},
   "outputs": [
    {
     "data": {
      "text/plain": [
       "<qiskit.extensions.standard.h.HGate at 0x7fc50dfef7b8>"
      ]
     },
     "execution_count": 65,
     "metadata": {},
     "output_type": "execute_result"
    }
   ],
   "source": [
    "qc.h(qr[0])"
   ]
  },
  {
   "cell_type": "code",
   "execution_count": 66,
   "metadata": {},
   "outputs": [
    {
     "data": {
      "image/png": "[encoded data removed]",
      "text/plain": [
       "<Figure size 240.8x258.86 with 1 Axes>"
      ]
     },
     "execution_count": 66,
     "metadata": {},
     "output_type": "execute_result"
    }
   ],
   "source": [
    "qc.draw(output='mpl')"
   ]
  },
  {
   "cell_type": "markdown",
   "metadata": {},
   "source": [
    "### Add Contolled-Not gate to entangle qubits"
   ]
  },
  {
   "cell_type": "code",
   "execution_count": 67,
   "metadata": {},
   "outputs": [
    {
     "data": {
      "text/plain": [
       "<qiskit.extensions.standard.cx.CnotGate at 0x7fc50dce7940>"
      ]
     },
     "execution_count": 67,
     "metadata": {},
     "output_type": "execute_result"
    }
   ],
   "source": [
    "qc.cx(qr[0], qr[1])"
   ]
  },
  {
   "cell_type": "code",
   "execution_count": 68,
   "metadata": {},
   "outputs": [
    {
     "data": {
      "image/png": "[encoded data removed]",
      "text/plain": [
       "<Figure size 301x258.86 with 1 Axes>"
      ]
     },
     "execution_count": 68,
     "metadata": {},
     "output_type": "execute_result"
    }
   ],
   "source": [
    "qc.draw(output='mpl')"
   ]
  },
  {
   "cell_type": "markdown",
   "metadata": {},
   "source": [
    "### Add measurerement of both qubits"
   ]
  },
  {
   "cell_type": "code",
   "execution_count": 84,
   "metadata": {},
   "outputs": [
    {
     "data": {
      "text/plain": [
       "<qiskit.circuit.instructionset.InstructionSet at 0x7fc507249a90>"
      ]
     },
     "execution_count": 84,
     "metadata": {},
     "output_type": "execute_result"
    }
   ],
   "source": [
    "qc.measure(qr,cr)"
   ]
  },
  {
   "cell_type": "code",
   "execution_count": 85,
   "metadata": {},
   "outputs": [
    {
     "data": {
      "image/png": "[encoded data removed]",
      "text/plain": [
       "<Figure size 421.4x258.86 with 1 Axes>"
      ]
     },
     "execution_count": 85,
     "metadata": {},
     "output_type": "execute_result"
    }
   ],
   "source": [
    "qc.draw(output='mpl')"
   ]
  },
  {
   "cell_type": "markdown",
   "metadata": {},
   "source": [
    "### Simulate circuit classically"
   ]
  },
  {
   "cell_type": "code",
   "execution_count": 73,
   "metadata": {},
   "outputs": [
    {
     "data": {
      "text/plain": [
       "[<QasmSimulator('qasm_simulator') from AerProvider()>,\n",
       " <StatevectorSimulator('statevector_simulator') from AerProvider()>,\n",
       " <UnitarySimulator('unitary_simulator') from AerProvider()>]"
      ]
     },
     "execution_count": 73,
     "metadata": {},
     "output_type": "execute_result"
    }
   ],
   "source": [
    "qk.Aer.backends()"
   ]
  },
  {
   "cell_type": "code",
   "execution_count": 97,
   "metadata": {},
   "outputs": [],
   "source": [
    "sim = qk.Aer.get_backend('qasm_simulator')"
   ]
  },
  {
   "cell_type": "code",
   "execution_count": 98,
   "metadata": {},
   "outputs": [],
   "source": [
    "res = qk.execute(qc, sim).result()"
   ]
  },
  {
   "cell_type": "code",
   "execution_count": 102,
   "metadata": {},
   "outputs": [
    {
     "data": {
      "text/html": [
       "\n",
       "    <p>\n",
       "        <div id=\"histogram_1555300641785479\"></div>\n",
       "    </p>\n",
       "    \n",
       "    <script>\n",
       "        requirejs.config({\n",
       "            paths: {\n",
       "                qVisualization: \"https://qvisualization.mybluemix.net/q-visualizations\"\n",
       "            }\n",
       "        });\n",
       "\n",
       "        require([\"qVisualization\"], function(qVisualizations) {\n",
       "            qVisualizations.plotState(\"histogram_1555300641785479\",\n",
       "                                      \"histogram\",\n",
       "                                      [{'data': {'11': 0.51172, '00': 0.48828}}],\n",
       "                                      {'number_to_keep': 0, 'sort': 'asc', 'show_legend': 0, 'width': 7, 'height': 5});\n",
       "        });\n",
       "    </script>\n",
       "    "
      ],
      "text/plain": [
       "<IPython.core.display.HTML object>"
      ]
     },
     "metadata": {},
     "output_type": "display_data"
    }
   ],
   "source": [
    "qk.tools.visualization.iplot_histogram(res.get_counts())"
   ]
  },
  {
   "cell_type": "markdown",
   "metadata": {},
   "source": [
    "### Run circuit on real quantum computer"
   ]
  },
  {
   "cell_type": "code",
   "execution_count": 108,
   "metadata": {},
   "outputs": [
    {
     "name": "stderr",
     "output_type": "stream",
     "text": [
      "/home/dm/anaconda3/lib/python3.7/site-packages/qiskit/providers/ibmq/ibmqprovider.py:251: UserWarning: Credentials are already in use.\n",
      "  warnings.warn('Credentials are already in use.')\n"
     ]
    },
    {
     "data": {
      "text/plain": [
       "[<IBMQBackend('ibmqx4') from IBMQ()>,\n",
       " <IBMQBackend('ibmqx2') from IBMQ()>,\n",
       " <IBMQBackend('ibmq_16_melbourne') from IBMQ()>,\n",
       " <IBMQBackend('ibmq_qasm_simulator') from IBMQ()>]"
      ]
     },
     "execution_count": 108,
     "metadata": {},
     "output_type": "execute_result"
    }
   ],
   "source": [
    "qk.IBMQ.load_accounts()\n",
    "procs = qk.IBMQ.backends()\n",
    "procs"
   ]
  },
  {
   "cell_type": "code",
   "execution_count": 126,
   "metadata": {},
   "outputs": [
    {
     "data": {
      "application/vnd.jupyter.widget-view+json": {
       "model_id": "43e551de4fea45ca8c663fb9ef759622",
       "version_major": 2,
       "version_minor": 0
      },
      "text/plain": [
       "HTML(value=\"<p style='font-size:16px;'>Job Status: job is being initialized </p>\")"
      ]
     },
     "metadata": {},
     "output_type": "display_data"
    }
   ],
   "source": [
    "from qiskit.tools import monitor\n",
    "job = qk.execute(qc, backend=qk.providers.ibmq.least_busy(qk.IBMQ.backends()), shots=2**13)\n",
    "mon = monitor.job_monitor(job)\n",
    "res2 = job.result()"
   ]
  },
  {
   "cell_type": "code",
   "execution_count": 127,
   "metadata": {},
   "outputs": [
    {
     "data": {
      "text/html": [
       "\n",
       "    <p>\n",
       "        <div id=\"histogram_15553047512756686\"></div>\n",
       "    </p>\n",
       "    \n",
       "    <script>\n",
       "        requirejs.config({\n",
       "            paths: {\n",
       "                qVisualization: \"https://qvisualization.mybluemix.net/q-visualizations\"\n",
       "            }\n",
       "        });\n",
       "\n",
       "        require([\"qVisualization\"], function(qVisualizations) {\n",
       "            qVisualizations.plotState(\"histogram_15553047512756686\",\n",
       "                                      \"histogram\",\n",
       "                                      [{'data': {'11': 0.29712, '10': 0.04041, '00': 0.48303, '01': 0.17944}}],\n",
       "                                      {'number_to_keep': 0, 'sort': 'asc', 'show_legend': 0, 'width': 7, 'height': 5});\n",
       "        });\n",
       "    </script>\n",
       "    "
      ],
      "text/plain": [
       "<IPython.core.display.HTML object>"
      ]
     },
     "metadata": {},
     "output_type": "display_data"
    }
   ],
   "source": [
    "qk.tools.visualization.iplot_histogram(res2.get_counts(qc))"
   ]
  }
 ],
 "metadata": {
  "kernelspec": {
   "display_name": "Python 3",
   "language": "python",
   "name": "python3"
  },
  "language_info": {
   "codemirror_mode": {
    "name": "ipython",
    "version": 3
   },
   "file_extension": ".py",
   "mimetype": "text/x-python",
   "name": "python",
   "nbconvert_exporter": "python",
   "pygments_lexer": "ipython3",
   "version": "3.7.3"
  }
 },
 "nbformat": 4,
 "nbformat_minor": 2
}
